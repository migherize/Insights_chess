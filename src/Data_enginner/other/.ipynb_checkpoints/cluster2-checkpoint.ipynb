{
 "cells": [
  {
   "cell_type": "code",
   "execution_count": 13,
   "id": "7af95975",
   "metadata": {},
   "outputs": [],
   "source": [
    "import pandas as pd\n",
    "import numpy as np\n",
    "import matplotlib.pyplot as plt\n",
    "import seaborn as sb\n",
    "from sklearn.cluster import KMeans\n",
    "from sklearn.metrics import pairwise_distances_argmin_min\n",
    " \n",
    "%matplotlib inline\n",
    "from mpl_toolkits.mplot3d import Axes3D\n",
    "plt.rcParams['figure.figsize'] = (16, 9)\n",
    "plt.style.use('ggplot')"
   ]
  },
  {
   "cell_type": "code",
   "execution_count": 14,
   "id": "08836e69",
   "metadata": {},
   "outputs": [],
   "source": [
    "df = pd.read_csv(r\"data.csv\")"
   ]
  },
  {
   "cell_type": "code",
   "execution_count": 15,
   "id": "abd06258",
   "metadata": {},
   "outputs": [
    {
     "data": {
      "text/html": [
       "<div>\n",
       "<style scoped>\n",
       "    .dataframe tbody tr th:only-of-type {\n",
       "        vertical-align: middle;\n",
       "    }\n",
       "\n",
       "    .dataframe tbody tr th {\n",
       "        vertical-align: top;\n",
       "    }\n",
       "\n",
       "    .dataframe thead th {\n",
       "        text-align: right;\n",
       "    }\n",
       "</style>\n",
       "<table border=\"1\" class=\"dataframe\">\n",
       "  <thead>\n",
       "    <tr style=\"text-align: right;\">\n",
       "      <th></th>\n",
       "      <th>tiempo</th>\n",
       "      <th>sueldo</th>\n",
       "      <th>gasto</th>\n",
       "    </tr>\n",
       "  </thead>\n",
       "  <tbody>\n",
       "    <tr>\n",
       "      <th>Juan</th>\n",
       "      <td>9.8</td>\n",
       "      <td>290.0</td>\n",
       "      <td>92</td>\n",
       "    </tr>\n",
       "    <tr>\n",
       "      <th>Pedro</th>\n",
       "      <td>3.5</td>\n",
       "      <td>300.0</td>\n",
       "      <td>200</td>\n",
       "    </tr>\n",
       "    <tr>\n",
       "      <th>Maria</th>\n",
       "      <td>4.1</td>\n",
       "      <td>130.0</td>\n",
       "      <td>158</td>\n",
       "    </tr>\n",
       "    <tr>\n",
       "      <th>Angela</th>\n",
       "      <td>10.0</td>\n",
       "      <td>440.0</td>\n",
       "      <td>86</td>\n",
       "    </tr>\n",
       "    <tr>\n",
       "      <th>Nicolas</th>\n",
       "      <td>1.6</td>\n",
       "      <td>1.0</td>\n",
       "      <td>164</td>\n",
       "    </tr>\n",
       "  </tbody>\n",
       "</table>\n",
       "</div>"
      ],
      "text/plain": [
       "         tiempo  sueldo  gasto\n",
       "Juan        9.8   290.0     92\n",
       "Pedro       3.5   300.0    200\n",
       "Maria       4.1   130.0    158\n",
       "Angela     10.0   440.0     86\n",
       "Nicolas     1.6     1.0    164"
      ]
     },
     "execution_count": 15,
     "metadata": {},
     "output_type": "execute_result"
    }
   ],
   "source": [
    "df.head()"
   ]
  },
  {
   "cell_type": "code",
   "execution_count": 16,
   "id": "b0b57595",
   "metadata": {},
   "outputs": [],
   "source": [
    "def normalizar(lista):\n",
    "    min_list = int(min(lista))\n",
    "    max_list = int(max(lista))\n",
    "    list_normalizer = []\n",
    "    \n",
    "    for l in lista:\n",
    "        z = (int(l) - min_list) / (max_list - min_list)\n",
    "        list_normalizer.append(z)\n",
    "    \n",
    "    return list_normalizer"
   ]
  },
  {
   "cell_type": "code",
   "execution_count": 17,
   "id": "b783e872",
   "metadata": {},
   "outputs": [],
   "source": [
    "list_of_single_column1 = list(df['tiempo'])\n",
    "list_of_single_column2 = list(df['sueldo'])\n",
    "list_of_single_column3 = list(df['gasto'])"
   ]
  },
  {
   "cell_type": "code",
   "execution_count": 18,
   "id": "f4a4a124",
   "metadata": {},
   "outputs": [],
   "source": [
    "list_normalizado1 = normalizar(list_of_single_column1)\n",
    "list_normalizado2 = normalizar(list_of_single_column2)\n",
    "list_normalizado3 = normalizar(list_of_single_column3)"
   ]
  },
  {
   "cell_type": "code",
   "execution_count": 19,
   "id": "a1fae829",
   "metadata": {},
   "outputs": [
    {
     "data": {
      "text/plain": [
       "[0.8888888888888888,\n",
       " 0.2222222222222222,\n",
       " 0.3333333333333333,\n",
       " 1.0,\n",
       " 0.0,\n",
       " 0.3333333333333333]"
      ]
     },
     "execution_count": 19,
     "metadata": {},
     "output_type": "execute_result"
    }
   ],
   "source": [
    "list_normalizado1"
   ]
  },
  {
   "cell_type": "code",
   "execution_count": 20,
   "id": "a2a480a0",
   "metadata": {},
   "outputs": [
    {
     "data": {
      "text/plain": [
       "[0.6583143507972665,\n",
       " 0.6810933940774487,\n",
       " 0.2938496583143508,\n",
       " 1.0,\n",
       " 0.0,\n",
       " 0.6127562642369021]"
      ]
     },
     "execution_count": 20,
     "metadata": {},
     "output_type": "execute_result"
    }
   ],
   "source": [
    "list_normalizado2"
   ]
  },
  {
   "cell_type": "code",
   "execution_count": 21,
   "id": "afd56916",
   "metadata": {},
   "outputs": [
    {
     "data": {
      "text/plain": [
       "[0.06896551724137931,\n",
       " 1.0,\n",
       " 0.6379310344827587,\n",
       " 0.017241379310344827,\n",
       " 0.6896551724137931,\n",
       " 0.0]"
      ]
     },
     "execution_count": 21,
     "metadata": {},
     "output_type": "execute_result"
    }
   ],
   "source": [
    "list_normalizado3"
   ]
  },
  {
   "cell_type": "code",
   "execution_count": 22,
   "id": "f07bbb5c",
   "metadata": {},
   "outputs": [],
   "source": [
    "df2 = pd.DataFrame(list(zip(list_normalizado1,list_normalizado2,list_normalizado3)),columns =['tiempo', 'sueldo', 'gasto'])"
   ]
  },
  {
   "cell_type": "code",
   "execution_count": 23,
   "id": "d3fc54ff",
   "metadata": {},
   "outputs": [
    {
     "data": {
      "text/html": [
       "<div>\n",
       "<style scoped>\n",
       "    .dataframe tbody tr th:only-of-type {\n",
       "        vertical-align: middle;\n",
       "    }\n",
       "\n",
       "    .dataframe tbody tr th {\n",
       "        vertical-align: top;\n",
       "    }\n",
       "\n",
       "    .dataframe thead th {\n",
       "        text-align: right;\n",
       "    }\n",
       "</style>\n",
       "<table border=\"1\" class=\"dataframe\">\n",
       "  <thead>\n",
       "    <tr style=\"text-align: right;\">\n",
       "      <th></th>\n",
       "      <th>tiempo</th>\n",
       "      <th>sueldo</th>\n",
       "      <th>gasto</th>\n",
       "    </tr>\n",
       "  </thead>\n",
       "  <tbody>\n",
       "    <tr>\n",
       "      <th>0</th>\n",
       "      <td>0.888889</td>\n",
       "      <td>0.658314</td>\n",
       "      <td>0.068966</td>\n",
       "    </tr>\n",
       "    <tr>\n",
       "      <th>1</th>\n",
       "      <td>0.222222</td>\n",
       "      <td>0.681093</td>\n",
       "      <td>1.000000</td>\n",
       "    </tr>\n",
       "    <tr>\n",
       "      <th>2</th>\n",
       "      <td>0.333333</td>\n",
       "      <td>0.293850</td>\n",
       "      <td>0.637931</td>\n",
       "    </tr>\n",
       "    <tr>\n",
       "      <th>3</th>\n",
       "      <td>1.000000</td>\n",
       "      <td>1.000000</td>\n",
       "      <td>0.017241</td>\n",
       "    </tr>\n",
       "    <tr>\n",
       "      <th>4</th>\n",
       "      <td>0.000000</td>\n",
       "      <td>0.000000</td>\n",
       "      <td>0.689655</td>\n",
       "    </tr>\n",
       "    <tr>\n",
       "      <th>5</th>\n",
       "      <td>0.333333</td>\n",
       "      <td>0.612756</td>\n",
       "      <td>0.000000</td>\n",
       "    </tr>\n",
       "  </tbody>\n",
       "</table>\n",
       "</div>"
      ],
      "text/plain": [
       "     tiempo    sueldo     gasto\n",
       "0  0.888889  0.658314  0.068966\n",
       "1  0.222222  0.681093  1.000000\n",
       "2  0.333333  0.293850  0.637931\n",
       "3  1.000000  1.000000  0.017241\n",
       "4  0.000000  0.000000  0.689655\n",
       "5  0.333333  0.612756  0.000000"
      ]
     },
     "execution_count": 23,
     "metadata": {},
     "output_type": "execute_result"
    }
   ],
   "source": [
    "df2"
   ]
  },
  {
   "cell_type": "code",
   "execution_count": 24,
   "id": "ba2290d0",
   "metadata": {},
   "outputs": [
    {
     "name": "stdout",
     "output_type": "stream",
     "text": [
      "[0.88888889 0.22222222 0.33333333 1.         0.         0.33333333]\n"
     ]
    },
    {
     "data": {
      "text/plain": [
       "(6, 3)"
      ]
     },
     "execution_count": 24,
     "metadata": {},
     "output_type": "execute_result"
    }
   ],
   "source": [
    "X = np.array(df2[[\"tiempo\",\"sueldo\",\"gasto\"]])\n",
    "y = np.array(df2['tiempo'])\n",
    "print(y)\n",
    "X.shape"
   ]
  },
  {
   "cell_type": "code",
   "execution_count": 25,
   "id": "9b834bac",
   "metadata": {},
   "outputs": [
    {
     "name": "stderr",
     "output_type": "stream",
     "text": [
      "/var/folders/tf/nbfhfpvs1d9_v02rd4j7sj580000gp/T/ipykernel_2163/1209114659.py:2: MatplotlibDeprecationWarning: Axes3D(fig) adding itself to the figure is deprecated since 3.4. Pass the keyword argument auto_add_to_figure=False and use fig.add_axes(ax) to suppress this warning. The default value of auto_add_to_figure will change to False in mpl3.5 and True values will no longer work in 3.6.  This is consistent with other Axes classes.\n",
      "  ax = Axes3D(fig)\n"
     ]
    },
    {
     "data": {
      "text/plain": [
       "<mpl_toolkits.mplot3d.art3d.Path3DCollection at 0x7fd38dca38b0>"
      ]
     },
     "execution_count": 25,
     "metadata": {},
     "output_type": "execute_result"
    },
    {
     "data": {
      "image/png": "[encoded data removed]",
      "text/plain": [
       "<Figure size 1152x648 with 1 Axes>"
      ]
     },
     "metadata": {},
     "output_type": "display_data"
    }
   ],
   "source": [
    "fig = plt.figure()\n",
    "ax = Axes3D(fig)\n",
    "colores=['blue','red','green','blue','cyan','yellow']\n",
    "ax.scatter(X[:, 0], X[:, 1], X[:, 2], c=colores)"
   ]
  },
  {
   "cell_type": "code",
   "execution_count": null,
   "id": "11f98087",
   "metadata": {},
   "outputs": [],
   "source": []
  }
 ],
 "metadata": {
  "kernelspec": {
   "display_name": "Python 3 (ipykernel)",
   "language": "python",
   "name": "python3"
  },
  "language_info": {
   "codemirror_mode": {
    "name": "ipython",
    "version": 3
   },
   "file_extension": ".py",
   "mimetype": "text/x-python",
   "name": "python",
   "nbconvert_exporter": "python",
   "pygments_lexer": "ipython3",
   "version": "3.9.7"
  }
 },
 "nbformat": 4,
 "nbformat_minor": 5
}
